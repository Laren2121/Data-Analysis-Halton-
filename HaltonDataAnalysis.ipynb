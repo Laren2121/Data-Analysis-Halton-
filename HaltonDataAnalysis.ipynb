{
  "nbformat": 4,
  "nbformat_minor": 0,
  "metadata": {
    "colab": {
      "name": "DataAnalysis.ipynb",
      "provenance": [],
      "collapsed_sections": []
    },
    "kernelspec": {
      "name": "python3",
      "display_name": "Python 3"
    }
  },
  "cells": [
    {
      "cell_type": "code",
      "metadata": {
        "id": "Ifo1glTxmEwg",
        "colab_type": "code",
        "colab": {
          "base_uri": "https://localhost:8080/",
          "height": 121
        },
        "outputId": "e9b2d87b-e481-4ae1-fb56-653a8df91618"
      },
      "source": [
        "#Mounting File\n",
        "from google.colab import drive\n",
        "drive.mount('/content/drive')"
      ],
      "execution_count": null,
      "outputs": [
        {
          "output_type": "stream",
          "text": [
            "Go to this URL in a browser: https://accounts.google.com/o/oauth2/auth?client_id=947318989803-6bn6qk8qdgf4n4g3pfee6491hc0brc4i.apps.googleusercontent.com&redirect_uri=urn%3aietf%3awg%3aoauth%3a2.0%3aoob&response_type=code&scope=email%20https%3a%2f%2fwww.googleapis.com%2fauth%2fdocs.test%20https%3a%2f%2fwww.googleapis.com%2fauth%2fdrive%20https%3a%2f%2fwww.googleapis.com%2fauth%2fdrive.photos.readonly%20https%3a%2f%2fwww.googleapis.com%2fauth%2fpeopleapi.readonly\n",
            "\n",
            "Enter your authorization code:\n",
            "··········\n",
            "Mounted at /content/drive\n"
          ],
          "name": "stdout"
        }
      ]
    },
    {
      "cell_type": "code",
      "metadata": {
        "id": "UxGm191VnjlH",
        "colab_type": "code",
        "colab": {
          "base_uri": "https://localhost:8080/",
          "height": 121
        },
        "outputId": "aa7d8e5e-63ad-4067-dc1f-ff1f30fe2c74"
      },
      "source": [
        "import pandas as pd\n",
        "import numpy as np\n",
        "from itertools import chain\n",
        "import collections\n",
        "import statistics\n",
        "from statistics import mode \n",
        "\n",
        "!pip install iteration_utilities\n",
        "from iteration_utilities import duplicates\n",
        "from pandas import DataFrame\n",
        "from google.colab import files\n"
      ],
      "execution_count": null,
      "outputs": [
        {
          "output_type": "stream",
          "text": [
            "Collecting iteration_utilities\n",
            "\u001b[?25l  Downloading https://files.pythonhosted.org/packages/64/56/c220ada4b076408681645460fd54061e2fafeab72f5ef16590ed1e25d322/iteration_utilities-0.10.1-cp36-cp36m-manylinux2010_x86_64.whl (270kB)\n",
            "\r\u001b[K     |█▏                              | 10kB 23.5MB/s eta 0:00:01\r\u001b[K     |██▍                             | 20kB 2.9MB/s eta 0:00:01\r\u001b[K     |███▋                            | 30kB 3.9MB/s eta 0:00:01\r\u001b[K     |████▉                           | 40kB 4.2MB/s eta 0:00:01\r\u001b[K     |██████                          | 51kB 3.3MB/s eta 0:00:01\r\u001b[K     |███████▎                        | 61kB 3.7MB/s eta 0:00:01\r\u001b[K     |████████▌                       | 71kB 4.1MB/s eta 0:00:01\r\u001b[K     |█████████▊                      | 81kB 4.3MB/s eta 0:00:01\r\u001b[K     |███████████                     | 92kB 4.6MB/s eta 0:00:01\r\u001b[K     |████████████▏                   | 102kB 4.5MB/s eta 0:00:01\r\u001b[K     |█████████████▎                  | 112kB 4.5MB/s eta 0:00:01\r\u001b[K     |██████████████▌                 | 122kB 4.5MB/s eta 0:00:01\r\u001b[K     |███████████████▊                | 133kB 4.5MB/s eta 0:00:01\r\u001b[K     |█████████████████               | 143kB 4.5MB/s eta 0:00:01\r\u001b[K     |██████████████████▏             | 153kB 4.5MB/s eta 0:00:01\r\u001b[K     |███████████████████▍            | 163kB 4.5MB/s eta 0:00:01\r\u001b[K     |████████████████████▋           | 174kB 4.5MB/s eta 0:00:01\r\u001b[K     |█████████████████████▉          | 184kB 4.5MB/s eta 0:00:01\r\u001b[K     |███████████████████████         | 194kB 4.5MB/s eta 0:00:01\r\u001b[K     |████████████████████████▎       | 204kB 4.5MB/s eta 0:00:01\r\u001b[K     |█████████████████████████▍      | 215kB 4.5MB/s eta 0:00:01\r\u001b[K     |██████████████████████████▋     | 225kB 4.5MB/s eta 0:00:01\r\u001b[K     |███████████████████████████▉    | 235kB 4.5MB/s eta 0:00:01\r\u001b[K     |█████████████████████████████   | 245kB 4.5MB/s eta 0:00:01\r\u001b[K     |██████████████████████████████▎ | 256kB 4.5MB/s eta 0:00:01\r\u001b[K     |███████████████████████████████▌| 266kB 4.5MB/s eta 0:00:01\r\u001b[K     |████████████████████████████████| 276kB 4.5MB/s \n",
            "\u001b[?25hInstalling collected packages: iteration-utilities\n",
            "Successfully installed iteration-utilities-0.10.1\n"
          ],
          "name": "stdout"
        }
      ]
    },
    {
      "cell_type": "code",
      "metadata": {
        "id": "WA665h1mnyPe",
        "colab_type": "code",
        "colab": {}
      },
      "source": [
        "df_allergies = pd.read_excel('intern.xlsx', sheet_name=\"Allergies\")"
      ],
      "execution_count": null,
      "outputs": []
    },
    {
      "cell_type": "code",
      "metadata": {
        "id": "F_13hXX2oLMp",
        "colab_type": "code",
        "colab": {}
      },
      "source": [
        "df_demog = pd.read_excel('intern.xlsx', sheet_name=\"Demographics\")"
      ],
      "execution_count": null,
      "outputs": []
    },
    {
      "cell_type": "code",
      "metadata": {
        "id": "iQXzS_VZFx15",
        "colab_type": "code",
        "colab": {
          "base_uri": "https://localhost:8080/",
          "height": 402
        },
        "outputId": "caf5412e-833a-4ebe-d42c-8da929a329d8"
      },
      "source": [
        "df_allergies"
      ],
      "execution_count": null,
      "outputs": [
        {
          "output_type": "execute_result",
          "data": {
            "text/html": [
              "<div>\n",
              "<style scoped>\n",
              "    .dataframe tbody tr th:only-of-type {\n",
              "        vertical-align: middle;\n",
              "    }\n",
              "\n",
              "    .dataframe tbody tr th {\n",
              "        vertical-align: top;\n",
              "    }\n",
              "\n",
              "    .dataframe thead th {\n",
              "        text-align: right;\n",
              "    }\n",
              "</style>\n",
              "<table border=\"1\" class=\"dataframe\">\n",
              "  <thead>\n",
              "    <tr style=\"text-align: right;\">\n",
              "      <th></th>\n",
              "      <th>Person ID</th>\n",
              "      <th>Allergy</th>\n",
              "    </tr>\n",
              "  </thead>\n",
              "  <tbody>\n",
              "    <tr>\n",
              "      <th>0</th>\n",
              "      <td>1</td>\n",
              "      <td>Pollen</td>\n",
              "    </tr>\n",
              "    <tr>\n",
              "      <th>1</th>\n",
              "      <td>1</td>\n",
              "      <td>Shellfish</td>\n",
              "    </tr>\n",
              "    <tr>\n",
              "      <th>2</th>\n",
              "      <td>2</td>\n",
              "      <td>Grass</td>\n",
              "    </tr>\n",
              "    <tr>\n",
              "      <th>3</th>\n",
              "      <td>2</td>\n",
              "      <td>Nuts</td>\n",
              "    </tr>\n",
              "    <tr>\n",
              "      <th>4</th>\n",
              "      <td>3</td>\n",
              "      <td>Pollen</td>\n",
              "    </tr>\n",
              "    <tr>\n",
              "      <th>...</th>\n",
              "      <td>...</td>\n",
              "      <td>...</td>\n",
              "    </tr>\n",
              "    <tr>\n",
              "      <th>2995</th>\n",
              "      <td>1995</td>\n",
              "      <td>Pollen</td>\n",
              "    </tr>\n",
              "    <tr>\n",
              "      <th>2996</th>\n",
              "      <td>1996</td>\n",
              "      <td>Pollen</td>\n",
              "    </tr>\n",
              "    <tr>\n",
              "      <th>2997</th>\n",
              "      <td>1997</td>\n",
              "      <td>Pollen</td>\n",
              "    </tr>\n",
              "    <tr>\n",
              "      <th>2998</th>\n",
              "      <td>1999</td>\n",
              "      <td>Shellfish</td>\n",
              "    </tr>\n",
              "    <tr>\n",
              "      <th>2999</th>\n",
              "      <td>2000</td>\n",
              "      <td>Nuts</td>\n",
              "    </tr>\n",
              "  </tbody>\n",
              "</table>\n",
              "<p>3000 rows × 2 columns</p>\n",
              "</div>"
            ],
            "text/plain": [
              "      Person ID    Allergy\n",
              "0             1     Pollen\n",
              "1             1  Shellfish\n",
              "2             2      Grass\n",
              "3             2       Nuts\n",
              "4             3     Pollen\n",
              "...         ...        ...\n",
              "2995       1995     Pollen\n",
              "2996       1996     Pollen\n",
              "2997       1997     Pollen\n",
              "2998       1999  Shellfish\n",
              "2999       2000       Nuts\n",
              "\n",
              "[3000 rows x 2 columns]"
            ]
          },
          "metadata": {
            "tags": []
          },
          "execution_count": 6
        }
      ]
    },
    {
      "cell_type": "markdown",
      "metadata": {
        "id": "6qEdvk7Ot4TZ",
        "colab_type": "text"
      },
      "source": [
        "#Data Cleaning"
      ]
    },
    {
      "cell_type": "code",
      "metadata": {
        "id": "29NLsBgvoiV_",
        "colab_type": "code",
        "colab": {
          "base_uri": "https://localhost:8080/",
          "height": 235
        },
        "outputId": "0b7490c0-c6a3-4bea-8d14-1fbec071ac6e"
      },
      "source": [
        "\n",
        "df_clean = df_allergies.groupby('Person ID')['Allergy'].unique().to_dict()\n",
        "df_kk = pd.DataFrame(df_clean.items(), columns=['Person ID','Allergy'])\n",
        "df_finalClean = df_kk.set_index(['Person ID'])['Allergy'].apply(pd.Series).stack().reset_index(level=1, drop=True)\n",
        "df_finalClean\n",
        "#df_finalClean.to_csv('df_Clean.csv')\n",
        "#!cp data_Clean.csv \"drive/My Drive/\""
      ],
      "execution_count": null,
      "outputs": [
        {
          "output_type": "execute_result",
          "data": {
            "text/plain": [
              "Person ID\n",
              "1          Pollen\n",
              "1       Shellfish\n",
              "2           Grass\n",
              "2            Nuts\n",
              "3          Pollen\n",
              "          ...    \n",
              "1995       Pollen\n",
              "1996       Pollen\n",
              "1997       Pollen\n",
              "1999    Shellfish\n",
              "2000         Nuts\n",
              "Length: 2437, dtype: object"
            ]
          },
          "metadata": {
            "tags": []
          },
          "execution_count": 16
        }
      ]
    },
    {
      "cell_type": "markdown",
      "metadata": {
        "id": "JaQk83ysQKFn",
        "colab_type": "text"
      },
      "source": [
        "#Cleaned data"
      ]
    },
    {
      "cell_type": "code",
      "metadata": {
        "id": "kmEGdaswQSDx",
        "colab_type": "code",
        "colab": {
          "base_uri": "https://localhost:8080/",
          "height": 235
        },
        "outputId": "a6795c3a-1da6-4820-de0d-d42d85234bf5"
      },
      "source": [
        "df_finalClean\n",
        "#df_finalList = df_finalClean.groupby('Person ID').unique().to_dict()\n",
        "#print(df_finalList)\n",
        "#df_finalClean.to_csv('df_finalClean.csv')\n",
        "#files.download('df_finalClean.csv')"
      ],
      "execution_count": null,
      "outputs": [
        {
          "output_type": "execute_result",
          "data": {
            "text/plain": [
              "Person ID\n",
              "1          Pollen\n",
              "1       Shellfish\n",
              "2           Grass\n",
              "2            Nuts\n",
              "3          Pollen\n",
              "          ...    \n",
              "1995       Pollen\n",
              "1996       Pollen\n",
              "1997       Pollen\n",
              "1999    Shellfish\n",
              "2000         Nuts\n",
              "Length: 2437, dtype: object"
            ]
          },
          "metadata": {
            "tags": []
          },
          "execution_count": 94
        }
      ]
    },
    {
      "cell_type": "markdown",
      "metadata": {
        "id": "zCxTETMGNhxl",
        "colab_type": "text"
      },
      "source": [
        "What is the most common allergy"
      ]
    },
    {
      "cell_type": "code",
      "metadata": {
        "id": "MP_-ERbFsljw",
        "colab_type": "code",
        "colab": {
          "base_uri": "https://localhost:8080/",
          "height": 269
        },
        "outputId": "175763a1-5a29-4695-ddf7-22efb4e3b743"
      },
      "source": [
        "#Most common Allergy\n",
        "commonAllergy = df_kk['Allergy'].value_counts().idxmax()\n",
        "print('Most common allergy is ', commonAllergy)\n",
        "\n",
        "#print(pd.value_counts(df_kk.Allergy).to_frame().reset_index())\n"
      ],
      "execution_count": null,
      "outputs": [
        {
          "output_type": "stream",
          "text": [
            "Most common allergy is  ['Nuts']\n",
            "                        index  Allergy\n",
            "0                      [Nuts]      429\n",
            "1                    [Pollen]      174\n",
            "2                     [Grass]      170\n",
            "3                 [Shellfish]       74\n",
            "4              [Nuts, Pollen]        1\n",
            "..                        ...      ...\n",
            "702            [Nuts, Pollen]        1\n",
            "703           [Grass, Pollen]        1\n",
            "704     [Grass, Nuts, Pollen]        1\n",
            "705         [Nuts, Shellfish]        1\n",
            "706  [Grass, Nuts, Shellfish]        1\n",
            "\n",
            "[707 rows x 2 columns]\n"
          ],
          "name": "stdout"
        }
      ]
    },
    {
      "cell_type": "markdown",
      "metadata": {
        "id": "vYkgd88McdFT",
        "colab_type": "text"
      },
      "source": [
        "How many People have no allergy at all\n",
        "\n"
      ]
    },
    {
      "cell_type": "code",
      "metadata": {
        "id": "tqdDvefEKs-u",
        "colab_type": "code",
        "colab": {
          "base_uri": "https://localhost:8080/",
          "height": 34
        },
        "outputId": "940ae496-4a8f-483b-8967-a6f47d8eca41"
      },
      "source": [
        "start = df_allergies['Person ID'].iloc[0]\n",
        "end = df_allergies['Person ID'].iloc[-1]\n",
        "li = []\n",
        "li = set(range(start, end + 1)).difference(df_allergies['Person ID'])\n",
        "\n",
        "count = 0\n",
        "for i in li:\n",
        "  count += 1\n",
        "print('The count of people who dont have Allergy : ', count)"
      ],
      "execution_count": null,
      "outputs": [
        {
          "output_type": "stream",
          "text": [
            "The count of people who dont have Allergy :  450\n"
          ],
          "name": "stdout"
        }
      ]
    },
    {
      "cell_type": "markdown",
      "metadata": {
        "id": "sGNlwDlIc_mU",
        "colab_type": "text"
      },
      "source": [
        "How many people have multiple allergies?"
      ]
    },
    {
      "cell_type": "code",
      "metadata": {
        "id": "3YcsRVRlAJpg",
        "colab_type": "code",
        "colab": {
          "base_uri": "https://localhost:8080/",
          "height": 34
        },
        "outputId": "3ea63eed-c1d9-4086-ec11-f295dabdd348"
      },
      "source": [
        "  df_noDup = df_allergies.drop_duplicates(subset=None, keep='last', inplace=False)\n",
        "  \n",
        "  setOfElement = set()\n",
        "  count = 0\n",
        "  for key in df_List.keys():\n",
        "    val = df_List[key]\n",
        "    if list(duplicates(val)):\n",
        "      count += 1\n",
        "  \n",
        "  #Duplicate values\n",
        "  print(count, ' number of people have multiple allergies')\n",
        "    "
      ],
      "execution_count": null,
      "outputs": [
        {
          "output_type": "stream",
          "text": [
            "430  number of people have multiple allergies\n"
          ],
          "name": "stdout"
        }
      ]
    },
    {
      "cell_type": "markdown",
      "metadata": {
        "id": "a7d2cCp03VBb",
        "colab_type": "text"
      },
      "source": [
        "#Connecting Data\n",
        "\n",
        "\n"
      ]
    },
    {
      "cell_type": "code",
      "metadata": {
        "id": "E0dYAzpf3Wwi",
        "colab_type": "code",
        "colab": {
          "base_uri": "https://localhost:8080/",
          "height": 487
        },
        "outputId": "8de9214e-c81b-40fd-bd6f-5e61661921e1"
      },
      "source": [
        "df_List = df_allergies.groupby('Person ID')['Allergy'].apply(list).to_dict()\n",
        "df_ListDF = DataFrame(list(df_List.items()), columns = ['Person ID','Allergy'])\n",
        "print(df_ListDF)\n",
        "\n",
        "df_Connected = pd.merge(left=df_ListDF, right=df_demog, on=['Person ID'], how=\"left\")\n",
        "df_Connected.head"
      ],
      "execution_count": null,
      "outputs": [
        {
          "output_type": "stream",
          "text": [
            "      Person ID                        Allergy\n",
            "0             1            [Pollen, Shellfish]\n",
            "1             2                  [Grass, Nuts]\n",
            "2             3            [Pollen, Shellfish]\n",
            "3             5  [Grass, Nuts, Pollen, Pollen]\n",
            "4             7              [Nuts, Shellfish]\n",
            "...         ...                            ...\n",
            "1545       1995                       [Pollen]\n",
            "1546       1996                       [Pollen]\n",
            "1547       1997                       [Pollen]\n",
            "1548       1999                    [Shellfish]\n",
            "1549       2000                         [Nuts]\n",
            "\n",
            "[1550 rows x 2 columns]\n"
          ],
          "name": "stdout"
        },
        {
          "output_type": "execute_result",
          "data": {
            "text/plain": [
              "<bound method NDFrame.head of       Person ID                        Allergy  ... Eye Colour   Height\n",
              "0             1            [Pollen, Shellfish]  ...       Blue  Average\n",
              "1             2                  [Grass, Nuts]  ...       Blue    Short\n",
              "2             3            [Pollen, Shellfish]  ...       Blue    Short\n",
              "3             5  [Grass, Nuts, Pollen, Pollen]  ...       Blue  Average\n",
              "4             7              [Nuts, Shellfish]  ...       Blue     Tall\n",
              "...         ...                            ...  ...        ...      ...\n",
              "1545       1995                       [Pollen]  ...      Green  Average\n",
              "1546       1996                       [Pollen]  ...      Green    Short\n",
              "1547       1997                       [Pollen]  ...      Brown  Average\n",
              "1548       1999                    [Shellfish]  ...      Brown     Tall\n",
              "1549       2000                         [Nuts]  ...      Hazel     Tall\n",
              "\n",
              "[1550 rows x 8 columns]>"
            ]
          },
          "metadata": {
            "tags": []
          },
          "execution_count": 11
        }
      ]
    },
    {
      "cell_type": "code",
      "metadata": {
        "id": "RXlbbnP259_o",
        "colab_type": "code",
        "colab": {}
      },
      "source": [
        "#Exporting the file into csv\n",
        "#df_Connected.to_csv('df_Connected.csv')\n",
        "#files.download('df_Connected.csv')"
      ],
      "execution_count": null,
      "outputs": []
    },
    {
      "cell_type": "markdown",
      "metadata": {
        "id": "hIN59T7CdZVB",
        "colab_type": "text"
      },
      "source": [
        "What city has the most people with allergies?"
      ]
    },
    {
      "cell_type": "code",
      "metadata": {
        "id": "OFIrbbPH7wso",
        "colab_type": "code",
        "colab": {
          "base_uri": "https://localhost:8080/",
          "height": 286
        },
        "outputId": "33022584-27ad-4af3-92cd-cecfa1fe5ad4"
      },
      "source": [
        "\n",
        "df_city = pd.value_counts(df_Connected.City).to_frame().reset_index()\n",
        "print(df_city)\n",
        "print('\\nBurlington has the most people with allergies\\n\\n\\n')\n",
        "\n",
        "df_gAll = pd.value_counts(df_Connected.Sex).to_frame().reset_index()\n",
        "print(df_gAll)\n",
        "print('\\n there are 944 male with allergies compaired to female')\n",
        "\n"
      ],
      "execution_count": null,
      "outputs": [
        {
          "output_type": "stream",
          "text": [
            "                   index  City\n",
            "0             Burlington   373\n",
            "1               Oakville   358\n",
            "2           Halton Hills   348\n",
            "3  Outside Halton Region   246\n",
            "4                 Milton   225\n",
            "\n",
            "Burlington has the most people with allergies\n",
            "\n",
            "\n",
            "\n",
            "    index  Sex\n",
            "0    Male  944\n",
            "1  Female  606\n",
            "\n",
            " there are 944 male with allergies compaired to female\n"
          ],
          "name": "stdout"
        }
      ]
    },
    {
      "cell_type": "code",
      "metadata": {
        "id": "5yKYvjj1yXgS",
        "colab_type": "code",
        "colab": {
          "base_uri": "https://localhost:8080/",
          "height": 402
        },
        "outputId": "c930d763-b1e1-4dd9-94c9-4c53f4104cc7"
      },
      "source": [
        "#converting dob to ages\n",
        "import datetime\n",
        "def from_dob_to_age(born):\n",
        "    today = datetime.date.today()\n",
        "    return today.year - born.year - ((today.month, today.day) < (born.month, born.day))\n",
        "\n",
        "df_Connected1 = df_Connected['DOB'].apply(lambda x: from_dob_to_age(x))\n",
        "df_Connected1\n",
        "\n",
        "something = pd.Series(df_Connected1, name=\"Age\")\n",
        "df_completeConcat = pd.concat([df_Connected, something], axis=1) \n",
        "df_completeConcat\n",
        "\n",
        "#exporting\n",
        "\n",
        "#df_completeConcat.to_csv('df_completeConcat.csv')\n",
        "#files.download('df_completeConcat.csv')\n"
      ],
      "execution_count": null,
      "outputs": [
        {
          "output_type": "execute_result",
          "data": {
            "text/html": [
              "<div>\n",
              "<style scoped>\n",
              "    .dataframe tbody tr th:only-of-type {\n",
              "        vertical-align: middle;\n",
              "    }\n",
              "\n",
              "    .dataframe tbody tr th {\n",
              "        vertical-align: top;\n",
              "    }\n",
              "\n",
              "    .dataframe thead th {\n",
              "        text-align: right;\n",
              "    }\n",
              "</style>\n",
              "<table border=\"1\" class=\"dataframe\">\n",
              "  <thead>\n",
              "    <tr style=\"text-align: right;\">\n",
              "      <th></th>\n",
              "      <th>Person ID</th>\n",
              "      <th>Allergy</th>\n",
              "      <th>Sex</th>\n",
              "      <th>City</th>\n",
              "      <th>DOB</th>\n",
              "      <th>Hair Colour</th>\n",
              "      <th>Eye Colour</th>\n",
              "      <th>Height</th>\n",
              "      <th>Age</th>\n",
              "    </tr>\n",
              "  </thead>\n",
              "  <tbody>\n",
              "    <tr>\n",
              "      <th>0</th>\n",
              "      <td>1</td>\n",
              "      <td>[Pollen, Shellfish]</td>\n",
              "      <td>Male</td>\n",
              "      <td>Halton Hills</td>\n",
              "      <td>2006-10-26</td>\n",
              "      <td>Brown</td>\n",
              "      <td>Blue</td>\n",
              "      <td>Average</td>\n",
              "      <td>13</td>\n",
              "    </tr>\n",
              "    <tr>\n",
              "      <th>1</th>\n",
              "      <td>2</td>\n",
              "      <td>[Grass, Nuts]</td>\n",
              "      <td>Male</td>\n",
              "      <td>Milton</td>\n",
              "      <td>2009-09-01</td>\n",
              "      <td>Brown</td>\n",
              "      <td>Blue</td>\n",
              "      <td>Short</td>\n",
              "      <td>10</td>\n",
              "    </tr>\n",
              "    <tr>\n",
              "      <th>2</th>\n",
              "      <td>3</td>\n",
              "      <td>[Pollen, Shellfish]</td>\n",
              "      <td>Male</td>\n",
              "      <td>Burlington</td>\n",
              "      <td>2002-12-19</td>\n",
              "      <td>Blonde</td>\n",
              "      <td>Blue</td>\n",
              "      <td>Short</td>\n",
              "      <td>17</td>\n",
              "    </tr>\n",
              "    <tr>\n",
              "      <th>3</th>\n",
              "      <td>5</td>\n",
              "      <td>[Grass, Nuts, Pollen, Pollen]</td>\n",
              "      <td>Male</td>\n",
              "      <td>Oakville</td>\n",
              "      <td>2004-06-13</td>\n",
              "      <td>Black</td>\n",
              "      <td>Blue</td>\n",
              "      <td>Average</td>\n",
              "      <td>16</td>\n",
              "    </tr>\n",
              "    <tr>\n",
              "      <th>4</th>\n",
              "      <td>7</td>\n",
              "      <td>[Nuts, Shellfish]</td>\n",
              "      <td>Female</td>\n",
              "      <td>Oakville</td>\n",
              "      <td>2004-10-08</td>\n",
              "      <td>Red</td>\n",
              "      <td>Blue</td>\n",
              "      <td>Tall</td>\n",
              "      <td>15</td>\n",
              "    </tr>\n",
              "    <tr>\n",
              "      <th>...</th>\n",
              "      <td>...</td>\n",
              "      <td>...</td>\n",
              "      <td>...</td>\n",
              "      <td>...</td>\n",
              "      <td>...</td>\n",
              "      <td>...</td>\n",
              "      <td>...</td>\n",
              "      <td>...</td>\n",
              "      <td>...</td>\n",
              "    </tr>\n",
              "    <tr>\n",
              "      <th>1545</th>\n",
              "      <td>1995</td>\n",
              "      <td>[Pollen]</td>\n",
              "      <td>Female</td>\n",
              "      <td>Burlington</td>\n",
              "      <td>2005-07-29</td>\n",
              "      <td>Black</td>\n",
              "      <td>Green</td>\n",
              "      <td>Average</td>\n",
              "      <td>14</td>\n",
              "    </tr>\n",
              "    <tr>\n",
              "      <th>1546</th>\n",
              "      <td>1996</td>\n",
              "      <td>[Pollen]</td>\n",
              "      <td>Male</td>\n",
              "      <td>Burlington</td>\n",
              "      <td>2003-02-27</td>\n",
              "      <td>Blonde</td>\n",
              "      <td>Green</td>\n",
              "      <td>Short</td>\n",
              "      <td>17</td>\n",
              "    </tr>\n",
              "    <tr>\n",
              "      <th>1547</th>\n",
              "      <td>1997</td>\n",
              "      <td>[Pollen]</td>\n",
              "      <td>Male</td>\n",
              "      <td>Halton Hills</td>\n",
              "      <td>2005-03-04</td>\n",
              "      <td>Black</td>\n",
              "      <td>Brown</td>\n",
              "      <td>Average</td>\n",
              "      <td>15</td>\n",
              "    </tr>\n",
              "    <tr>\n",
              "      <th>1548</th>\n",
              "      <td>1999</td>\n",
              "      <td>[Shellfish]</td>\n",
              "      <td>Female</td>\n",
              "      <td>Halton Hills</td>\n",
              "      <td>2008-02-14</td>\n",
              "      <td>Black</td>\n",
              "      <td>Brown</td>\n",
              "      <td>Tall</td>\n",
              "      <td>12</td>\n",
              "    </tr>\n",
              "    <tr>\n",
              "      <th>1549</th>\n",
              "      <td>2000</td>\n",
              "      <td>[Nuts]</td>\n",
              "      <td>Male</td>\n",
              "      <td>Halton Hills</td>\n",
              "      <td>2001-10-20</td>\n",
              "      <td>Brown</td>\n",
              "      <td>Hazel</td>\n",
              "      <td>Tall</td>\n",
              "      <td>18</td>\n",
              "    </tr>\n",
              "  </tbody>\n",
              "</table>\n",
              "<p>1550 rows × 9 columns</p>\n",
              "</div>"
            ],
            "text/plain": [
              "      Person ID                        Allergy     Sex  ... Eye Colour   Height Age\n",
              "0             1            [Pollen, Shellfish]    Male  ...       Blue  Average  13\n",
              "1             2                  [Grass, Nuts]    Male  ...       Blue    Short  10\n",
              "2             3            [Pollen, Shellfish]    Male  ...       Blue    Short  17\n",
              "3             5  [Grass, Nuts, Pollen, Pollen]    Male  ...       Blue  Average  16\n",
              "4             7              [Nuts, Shellfish]  Female  ...       Blue     Tall  15\n",
              "...         ...                            ...     ...  ...        ...      ...  ..\n",
              "1545       1995                       [Pollen]  Female  ...      Green  Average  14\n",
              "1546       1996                       [Pollen]    Male  ...      Green    Short  17\n",
              "1547       1997                       [Pollen]    Male  ...      Brown  Average  15\n",
              "1548       1999                    [Shellfish]  Female  ...      Brown     Tall  12\n",
              "1549       2000                         [Nuts]    Male  ...      Hazel     Tall  18\n",
              "\n",
              "[1550 rows x 9 columns]"
            ]
          },
          "metadata": {
            "tags": []
          },
          "execution_count": 119
        }
      ]
    }
  ]
}